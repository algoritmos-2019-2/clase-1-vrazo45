{
 "cells": [
  {
   "cell_type": "markdown",
   "metadata": {},
   "source": [
    "# Funciones listas y tuplas\n",
    "\n",
    "## Responda las siguientes Preguntas"
   ]
  },
  {
   "cell_type": "code",
   "execution_count": null,
   "metadata": {},
   "outputs": [],
   "source": [
    "### Funciones\n",
    "\n",
    "* ¿Por qué son ventajosas las funciones para tener en sus programas?\n",
    "#R: Porque ayudan a repetir varios procesos en un mismo codigo sin tenr que repetir la escritura de todo el proceso\n",
    "* ¿Cuándo se ejecuta el código en una función: cuando se define la función o cuando se llama a la función?\n",
    "#R: Caundo se llama a la función\n",
    "* ¿Qué enunciado crea una función?\n",
    "#R: def nombreDeLaFunción():\n",
    "* ¿Cuál es la diferencia entre una función y una llamada de función?\n",
    "#R: en la función esta todo el codigo que va a ejecutar la accion que uno quiere que realice\n",
    "#al llamarla lo que se hace es indicarle a esa función que definimos en alguna otra parte del codigo\n",
    "* ¿Cuántos ámbitos globales hay en un programa de Python? ¿Cuántos ámbitos locales?\n",
    "#R:Todos los que quiera, seran locales mientras esten definidos dentro de una funcion con el indentado adecuado\n",
    "* ¿Qué sucede con las variables en un ámbito local cuando se devuelve la llamada a la función?\n",
    "#R\n",
    "* ¿Qué es un valor de retorno? ¿Puede un valor de retorno ser parte de una expresión?\n",
    "#R: Es el valor que va tomar la función despues de haberla llamado.\n",
    "# Si declaro alguna varible como una función, por ejemplo n = funcion(n), n tendra el valor de retorno de la funcion \n",
    "* Si una función no tiene una declaración de retorno, ¿cuál es el valor de retorno de una llamada a esa función?. \n",
    "#R: La nula\n",
    "* ¿Cómo puede forzar una variable en una función para referirse a la variable global?\n",
    "#R:Se usa la declaracion global para idndicar que me estoy refiriendo a la global\n",
    "* ¿Cuál es el tipo de datos de ```None```?\n",
    "#R: Son los datos que no tiene ningun valor, estan vacias.\n",
    "* ¿Qué hace la declaración ```import random```?\n",
    "#R: Le indica al codigo que traiga a  una libreria\n",
    "* Si tuviera una función llamada ```randint()``` en un módulo llamado ```random```, ¿cómo lo llamaría después de importar ```random```?\n",
    "#R: ramdom.randint()"
   ]
  },
  {
   "cell_type": "code",
   "execution_count": null,
   "metadata": {},
   "outputs": [],
   "source": [
    "### Lista y tuplas\n",
    "* ¿Qué es ```[]```?\n",
    "#R: Los corchetes indican una lista\n",
    "* ¿Cómo asignaría el valor ```'hola'``` como el tercer valor en una lista almacenada? en una variable llamada spam? (Supongamos que el ```spam``` contiene ```[2, 4, 6, 8, 10]```.) Para las siguientes tres preguntas, digamos que ```spam``` contiene la lista ```[2, 4, 6, 8, 10]```.\n",
    "#R: spam.inster(3,\"hola\"). \n",
    "* ¿Qué evalúa ```spam[int ('3' * 2) / 11]```?\n",
    "\n",
    "* ¿Qué evalúa ```spam[-1]```?\n",
    "#R: de el ultimo valor de spam: 10\n",
    "* ¿Qué evalúa el ```spam[: 2]```?\n",
    "#R: Evalua los valores de spam anteriores al segundo elemento [2,4]\n",
    "Para las siguientes tres preguntas, digamos que ```bacon``` contiene la lista ```[3.14, 'cat', 11, 'cat', True]```.\n",
    "* ¿Qué evalúa ```bacon.index('cat')```?\n",
    "#R: El numero de elemnto de \"cat\" elemnto 1\n",
    "* ¿Qué evalúa ```bacon.append(99)```?\n",
    "#R: va a a~nadir el numero 99 al final de la lista\n",
    "* ¿Qué hace ```bacon.remove('cat')```?\n",
    "#R:Quita al elemto \"cat\"\n",
    "* ¿Cuáles son los operadores para la concatenación de listas y la replicación de listas?\n",
    "#R: El operador para concatenr es + o se puede usar un lista1.extend(lista2)\n",
    "# Para duplicarla puedo usar un igual =\n",
    "* ¿Cuál es la diferencia entre los métodos de lista ```append()``` e ```insert()```?\n",
    "#R: append() es para variables numericas, inster para lineas de texto\n",
    "* ¿Cuál es la diferencia entre listas y tuplas?\n",
    "#R:Las tuplas no pueden modificarse, no se les puede quitar, permutar o a~nadir elemtos"
   ]
  },
  {
   "cell_type": "markdown",
   "metadata": {},
   "source": [
    "### Proyecto Práctico \n",
    "\n",
    "Códifique las siguiente funciones:"
   ]
  },
  {
   "cell_type": "markdown",
   "metadata": {},
   "source": [
    "* ```testPrime()``` que verifique si un número es primo.\n",
    "* ```prime()``` que genere los primos menores o iguales que $n \\in \\mathbb{I}\\mathbb{N}$.\n",
    "* ```twinPrime()``` que regrese una tupla con los primos gemelos  menores o iguales que $n \\in \\mathbb{I}\\mathbb{N}$.\n",
    "* ```theoremArihtmetic()``` que regrese una lista con la descomposión en potencias de primos para cualquier $n \\in \\mathbb{I}\\mathbb{N}$.\n",
    "* ```mcm()``` que regrese el mínimo común multiplo de dos enteros.\n",
    "* ```MCD()``` que regrese el máximo común divisor de dos enteros."
   ]
  },
  {
   "cell_type": "code",
   "execution_count": null,
   "metadata": {
    "collapsed": true
   },
   "outputs": [],
   "source": []
  }
 ],
 "metadata": {
  "kernelspec": {
   "display_name": "Python 3",
   "language": "python",
   "name": "python3"
  },
  "language_info": {
   "codemirror_mode": {
    "name": "ipython",
    "version": 3
   },
   "file_extension": ".py",
   "mimetype": "text/x-python",
   "name": "python",
   "nbconvert_exporter": "python",
   "pygments_lexer": "ipython3",
   "version": "3.7.1"
  }
 },
 "nbformat": 4,
 "nbformat_minor": 2
}
