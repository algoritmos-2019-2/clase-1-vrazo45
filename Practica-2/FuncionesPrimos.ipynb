{
 "cells": [
  {
   "cell_type": "code",
   "execution_count": 1,
   "metadata": {},
   "outputs": [
    {
     "name": "stdout",
     "output_type": "stream",
     "text": [
      "A la prima\n"
     ]
    }
   ],
   "source": [
    "def Prime(n):\n",
    "    i = 1\n",
    "    r = 0\n",
    "    t = 0\n",
    "    while i < n:\n",
    "        i = i + 1\n",
    "        r = n%i\n",
    "        if r == 0:\n",
    "            t = t + 1\n",
    "    \n",
    "    if t == 1:\n",
    "        print(\"A la prima\")\n",
    "    else:\n",
    "        print(\"Nelpas\")\n",
    "        \n",
    "Prime(3)"
   ]
  },
  {
   "cell_type": "markdown",
   "metadata": {},
   "source": []
  },
  {
   "cell_type": "code",
   "execution_count": 2,
   "metadata": {},
   "outputs": [],
   "source": [
    "#Funcion para probar primos\n",
    "def testPrime(n):\n",
    "    i = 1\n",
    "    r = 0\n",
    "    t = 0\n",
    "    p = 0\n",
    "    while i < n:\n",
    "        i = i + 1\n",
    "        r = n%i\n",
    "        if r == 0:\n",
    "            t = t + 1\n",
    "    \n",
    "    if t == 1:\n",
    "        return True\n",
    "    else:\n",
    "        return False \n",
    "    \n",
    "        "
   ]
  },
  {
   "cell_type": "code",
   "execution_count": 4,
   "metadata": {},
   "outputs": [
    {
     "data": {
      "text/plain": [
       "True"
      ]
     },
     "execution_count": 4,
     "metadata": {},
     "output_type": "execute_result"
    }
   ],
   "source": [
    "testPrime(2)\n",
    "        "
   ]
  },
  {
   "cell_type": "code",
   "execution_count": 18,
   "metadata": {},
   "outputs": [
    {
     "name": "stdout",
     "output_type": "stream",
     "text": [
      "[2, 3, 5, 7, 11, 13, 17, 19, 23, 29]\n"
     ]
    },
    {
     "data": {
      "text/plain": [
       "[2, 3, 5, 7, 11, 13, 17, 19, 23, 29]"
      ]
     },
     "execution_count": 18,
     "metadata": {},
     "output_type": "execute_result"
    }
   ],
   "source": [
    "#funcion para arrojar todos los primos menores que el numero n\n",
    "def prime(n):\n",
    "    \n",
    "    i = 0 \n",
    "    l = []\n",
    "    \n",
    "    while i<n:\n",
    "        i = i + 1\n",
    "        r = testPrime(i)\n",
    "        if r == True:\n",
    "            l = l + [i]\n",
    "\n",
    "    return(l)\n",
    "\n",
    "primeSpam(30)\n"
   ]
  },
  {
   "cell_type": "code",
   "execution_count": 9,
   "metadata": {},
   "outputs": [
    {
     "name": "stdout",
     "output_type": "stream",
     "text": [
      "[2, 3, 5, 7, 11, 13, 17, 19]\n",
      "[2, 3, 5, 7, 11, 13, 17, 19]\n",
      "[]\n",
      "[]\n",
      "[3, 5]\n",
      "[3, 5, 5, 7]\n",
      "[3, 5, 5, 7]\n",
      "[3, 5, 5, 7, 11, 13]\n",
      "[3, 5, 5, 7, 11, 13]\n",
      "[3, 5, 5, 7, 11, 13, 17, 19]\n"
     ]
    },
    {
     "ename": "IndexError",
     "evalue": "list index out of range",
     "output_type": "error",
     "traceback": [
      "\u001b[0;31m---------------------------------------------------------------------------\u001b[0m",
      "\u001b[0;31mIndexError\u001b[0m                                Traceback (most recent call last)",
      "\u001b[0;32m<ipython-input-9-e94dec067cbe>\u001b[0m in \u001b[0;36m<module>\u001b[0;34m\u001b[0m\n\u001b[1;32m     18\u001b[0m \u001b[0;34m\u001b[0m\u001b[0m\n\u001b[1;32m     19\u001b[0m \u001b[0;34m\u001b[0m\u001b[0m\n\u001b[0;32m---> 20\u001b[0;31m \u001b[0mPrimeTwin\u001b[0m\u001b[0;34m(\u001b[0m\u001b[0;36m20\u001b[0m\u001b[0;34m)\u001b[0m\u001b[0;34m\u001b[0m\u001b[0;34m\u001b[0m\u001b[0m\n\u001b[0m\u001b[1;32m     21\u001b[0m \u001b[0;34m\u001b[0m\u001b[0m\n\u001b[1;32m     22\u001b[0m \u001b[0;31m#No tengo idea de por que me sigue marcando error, no entiendo porqu ela falla\u001b[0m\u001b[0;34m\u001b[0m\u001b[0;34m\u001b[0m\u001b[0;34m\u001b[0m\u001b[0m\n",
      "\u001b[0;32m<ipython-input-9-e94dec067cbe>\u001b[0m in \u001b[0;36mPrimeTwin\u001b[0;34m(n)\u001b[0m\n\u001b[1;32m      8\u001b[0m     \u001b[0;32mwhile\u001b[0m \u001b[0mi\u001b[0m\u001b[0;34m<\u001b[0m\u001b[0mm2\u001b[0m\u001b[0;34m:\u001b[0m\u001b[0;34m\u001b[0m\u001b[0;34m\u001b[0m\u001b[0m\n\u001b[1;32m      9\u001b[0m         \u001b[0mi\u001b[0m \u001b[0;34m=\u001b[0m \u001b[0mi\u001b[0m \u001b[0;34m+\u001b[0m \u001b[0;36m1\u001b[0m\u001b[0;34m\u001b[0m\u001b[0;34m\u001b[0m\u001b[0m\n\u001b[0;32m---> 10\u001b[0;31m         \u001b[0mr\u001b[0m \u001b[0;34m=\u001b[0m \u001b[0ml\u001b[0m\u001b[0;34m[\u001b[0m\u001b[0mi\u001b[0m\u001b[0;34m]\u001b[0m\u001b[0;34m-\u001b[0m\u001b[0ml\u001b[0m\u001b[0;34m[\u001b[0m\u001b[0mi\u001b[0m\u001b[0;34m-\u001b[0m\u001b[0;36m1\u001b[0m\u001b[0;34m]\u001b[0m\u001b[0;34m\u001b[0m\u001b[0;34m\u001b[0m\u001b[0m\n\u001b[0m\u001b[1;32m     11\u001b[0m         \u001b[0;32mif\u001b[0m \u001b[0mr\u001b[0m \u001b[0;34m==\u001b[0m \u001b[0;36m2\u001b[0m\u001b[0;34m:\u001b[0m\u001b[0;34m\u001b[0m\u001b[0;34m\u001b[0m\u001b[0m\n\u001b[1;32m     12\u001b[0m             \u001b[0mll\u001b[0m\u001b[0;34m.\u001b[0m\u001b[0mappend\u001b[0m\u001b[0;34m(\u001b[0m\u001b[0ml\u001b[0m\u001b[0;34m[\u001b[0m\u001b[0mi\u001b[0m\u001b[0;34m-\u001b[0m\u001b[0;36m1\u001b[0m\u001b[0;34m]\u001b[0m\u001b[0;34m)\u001b[0m\u001b[0;34m\u001b[0m\u001b[0;34m\u001b[0m\u001b[0m\n",
      "\u001b[0;31mIndexError\u001b[0m: list index out of range"
     ]
    }
   ],
   "source": [
    "def PrimeTwin(n):\n",
    "    i = -1\n",
    "    m = len(prime(n))\n",
    "    l = prime(n)\n",
    "    ll = []\n",
    "    m2 = m + 1 \n",
    "        \n",
    "    while i<m2:\n",
    "        i = i + 1\n",
    "        r = l[i]-l[i-1]\n",
    "        if r == 2:\n",
    "            ll.append(l[i-1])\n",
    "            ll.append(l[i])\n",
    "        print(ll)\n",
    "    return(l)   \n",
    "        \n",
    "        \n",
    "    \n",
    "    \n",
    "PrimeTwin(20)    \n",
    "\n",
    "#No tengo idea de por que me sigue marcando error, no entiendo porqu ela falla\n",
    " \n"
   ]
  },
  {
   "cell_type": "code",
   "execution_count": 19,
   "metadata": {},
   "outputs": [
    {
     "name": "stdout",
     "output_type": "stream",
     "text": [
      "[2]\n",
      "[2, 5]\n",
      "[2, 5, 5]\n"
     ]
    },
    {
     "data": {
      "text/plain": [
       "[2, 5, 5]"
      ]
     },
     "execution_count": 19,
     "metadata": {},
     "output_type": "execute_result"
    }
   ],
   "source": [
    "#Funcion que descompone a un numero en sus factores primos\n",
    "def theoremArithmetic(n):\n",
    "    \n",
    "    i = 0\n",
    "    l = prime(n)\n",
    "    ll = []\n",
    "    d = n\n",
    "    while d>1:\n",
    "        r = l[i]\n",
    "        dev = d%r\n",
    "        if dev == 0:\n",
    "            ll.append(l[i])\n",
    "            print(ll)\n",
    "            d = d / r\n",
    "        else:\n",
    "            i = i + 1 \n",
    "    return(ll)       \n",
    "    \n",
    "\n",
    "theoremArithmetic(50)"
   ]
  },
  {
   "cell_type": "code",
   "execution_count": 33,
   "metadata": {},
   "outputs": [
    {
     "name": "stdout",
     "output_type": "stream",
     "text": [
      "[2]\n",
      "[2, 2]\n",
      "[2, 2, 3]\n",
      "[2]\n",
      "[2, 2]\n",
      "[2, 2, 5]\n",
      "[2, 1, 0, 0, 0]\n",
      "Soy la lista con exponentes de los factores primos de n\n",
      "[2, 0, 1, 0, 0, 0, 0, 0]\n",
      "Soy la lista con exponentes de los factores primos de m\n",
      "[3, 5]\n"
     ]
    },
    {
     "ename": "KeyboardInterrupt",
     "evalue": "",
     "output_type": "error",
     "traceback": [
      "\u001b[0;31m---------------------------------------------------------------------------\u001b[0m",
      "\u001b[0;31mKeyboardInterrupt\u001b[0m                         Traceback (most recent call last)",
      "\u001b[0;32m<ipython-input-33-af9a670a3a83>\u001b[0m in \u001b[0;36m<module>\u001b[0;34m\u001b[0m\n\u001b[1;32m     54\u001b[0m \u001b[0;34m\u001b[0m\u001b[0m\n\u001b[1;32m     55\u001b[0m \u001b[0;34m\u001b[0m\u001b[0m\n\u001b[0;32m---> 56\u001b[0;31m \u001b[0mmcm\u001b[0m\u001b[0;34m(\u001b[0m\u001b[0;36m12\u001b[0m\u001b[0;34m,\u001b[0m \u001b[0;36m20\u001b[0m\u001b[0;34m)\u001b[0m\u001b[0;34m\u001b[0m\u001b[0;34m\u001b[0m\u001b[0m\n\u001b[0m\u001b[1;32m     57\u001b[0m \u001b[0;34m\u001b[0m\u001b[0m\n\u001b[1;32m     58\u001b[0m \u001b[0;31m#No tengo mucha idea de como hacer la comparacion de los elementos de ambas listas\u001b[0m\u001b[0;34m\u001b[0m\u001b[0;34m\u001b[0m\u001b[0;34m\u001b[0m\u001b[0m\n",
      "\u001b[0;32m<ipython-input-33-af9a670a3a83>\u001b[0m in \u001b[0;36mmcm\u001b[0;34m(n, m)\u001b[0m\n\u001b[1;32m     49\u001b[0m \u001b[0;34m\u001b[0m\u001b[0m\n\u001b[1;32m     50\u001b[0m     \u001b[0;32mwhile\u001b[0m \u001b[0mk\u001b[0m\u001b[0;34m<\u001b[0m\u001b[0mlen\u001b[0m\u001b[0;34m(\u001b[0m\u001b[0mmini\u001b[0m\u001b[0;34m)\u001b[0m\u001b[0;34m:\u001b[0m\u001b[0;34m\u001b[0m\u001b[0;34m\u001b[0m\u001b[0m\n\u001b[0;32m---> 51\u001b[0;31m         \u001b[0mresult\u001b[0m \u001b[0;34m=\u001b[0m \u001b[0mresult\u001b[0m \u001b[0;34m*\u001b[0m \u001b[0mmini\u001b[0m\u001b[0;34m[\u001b[0m\u001b[0mk\u001b[0m\u001b[0;34m]\u001b[0m\u001b[0;34m\u001b[0m\u001b[0;34m\u001b[0m\u001b[0m\n\u001b[0m\u001b[1;32m     52\u001b[0m \u001b[0;34m\u001b[0m\u001b[0m\n\u001b[1;32m     53\u001b[0m     \u001b[0mprint\u001b[0m\u001b[0;34m(\u001b[0m\u001b[0mresult\u001b[0m\u001b[0;34m)\u001b[0m\u001b[0;34m\u001b[0m\u001b[0;34m\u001b[0m\u001b[0m\n",
      "\u001b[0;31mKeyboardInterrupt\u001b[0m: "
     ]
    }
   ],
   "source": [
    "def mcm(n, m):\n",
    "    num1 = theoremArithmetic(n)\n",
    "    num2 = theoremArithmetic(m)\n",
    "    l1 = len(num1)\n",
    "    l2 = len(num2)\n",
    "    p1 = prime(n)\n",
    "    p2 = prime(m)\n",
    "    i = 0\n",
    "    j = 0\n",
    "    k = 0\n",
    "    expnum1 = []\n",
    "    expnum2 = []\n",
    "    mini = []\n",
    "    result = 1\n",
    "    \n",
    "    while i<len(p1):\n",
    "        expnum1 = expnum1 + [0]\n",
    "        i = i + 1\n",
    "    \n",
    "    while j<len(p2):\n",
    "        expnum2 = expnum2 + [0]\n",
    "        j = j + 1\n",
    "        \n",
    "    for x in range(len(p1)):\n",
    "        for y in range(l1):\n",
    "            if p1[x] == num1[y]:\n",
    "                expnum1[x] = expnum1[x] + 1\n",
    "    print(expnum1)\n",
    "    print(\"Soy la lista con exponentes de los factores primos de n\")\n",
    "            \n",
    "    for x in range(len(p2)):\n",
    "        for y in range(l2):\n",
    "            if p2[x] == num2[y]:\n",
    "                expnum2[x] = expnum2[x] + 1\n",
    "    print(expnum2)\n",
    "    print(\"Soy la lista con exponentes de los factores primos de m\")            \n",
    "            \n",
    "    for x in range(l2):\n",
    "        if expnum1[x] < expnum2[x]:\n",
    "            ex = p2[x] ** expnum2[x] \n",
    "            mini = mini + [ex]\n",
    "        elif expnum1[x] > expnum2[x]:\n",
    "            ex = p2[x] ** expnum1[x]\n",
    "            mini = mini + [ex]\n",
    "        elif expnum1[x] == expnum2[x]:\n",
    "            mimi = mini + [1]\n",
    "            \n",
    "    print(mini)\n",
    "            \n",
    "    while k<len(mini):\n",
    "        result = result * mini[k]\n",
    "        \n",
    "    print(result)\n",
    "        \n",
    "    \n",
    "mcm(12, 20)\n",
    "\n",
    "#No tengo mucha idea de como hacer la comparacion de los elementos de ambas listas"
   ]
  },
  {
   "cell_type": "code",
   "execution_count": 28,
   "metadata": {},
   "outputs": [
    {
     "name": "stdout",
     "output_type": "stream",
     "text": [
      "[2]\n",
      "[2, 2]\n",
      "[2, 2, 5]\n",
      "[2]\n",
      "[2, 3]\n",
      "[2, 3, 5]\n",
      "[0, 0, 0, 0, 0, 0, 0, 0]\n"
     ]
    }
   ],
   "source": [
    "num1 = theoremArithmetic(20)\n",
    "num2 = theoremArithmetic(30)\n",
    "l1 = len(num1)\n",
    "l2 = len(num2)\n",
    "p1 = prime(20)\n",
    "p2 = prime(30)\n",
    "i = 0\n",
    "j = 0\n",
    "expnum1 = []\n",
    "k = 0\n",
    "\n",
    "        \n",
    "while i<len(p1):\n",
    "    expnum1 = expnum1 + [0]\n",
    "    i = i + 1\n",
    "    \n",
    "print(expnum1)\n",
    "    "
   ]
  },
  {
   "cell_type": "code",
   "execution_count": 34,
   "metadata": {},
   "outputs": [
    {
     "data": {
      "text/plain": [
       "12"
      ]
     },
     "execution_count": 34,
     "metadata": {},
     "output_type": "execute_result"
    }
   ],
   "source": [
    "def MCD(n, m):\n",
    "    r = 0\n",
    "    while 0<m:\n",
    "        r = m\n",
    "        m = n%m\n",
    "        n = r\n",
    "        \n",
    "    return n\n",
    "\n",
    "MCD(12,24)\n",
    "        "
   ]
  },
  {
   "cell_type": "code",
   "execution_count": null,
   "metadata": {},
   "outputs": [],
   "source": [
    "algo es algo"
   ]
  }
 ],
 "metadata": {
  "kernelspec": {
   "display_name": "Python 3",
   "language": "python",
   "name": "python3"
  },
  "language_info": {
   "codemirror_mode": {
    "name": "ipython",
    "version": 3
   },
   "file_extension": ".py",
   "mimetype": "text/x-python",
   "name": "python",
   "nbconvert_exporter": "python",
   "pygments_lexer": "ipython3",
   "version": "3.7.1"
  }
 },
 "nbformat": 4,
 "nbformat_minor": 2
}
